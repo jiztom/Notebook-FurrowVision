{
 "cells": [
  {
   "cell_type": "code",
   "execution_count": 1,
   "metadata": {
    "collapsed": true
   },
   "outputs": [
    {
     "name": "stdout",
     "output_type": "stream",
     "text": [
      "Please work\n"
     ]
    }
   ],
   "source": [
    "import pandas as pd\n",
    "\n",
    "print(\"Welcome to Jupyter and it works!!!\")"
   ]
  },
  {
   "cell_type": "markdown",
   "source": [
    "## Data Sources\n",
    "Base image Destination"
   ],
   "metadata": {
    "collapsed": false
   }
  },
  {
   "cell_type": "code",
   "execution_count": 45,
   "outputs": [],
   "source": [
    "import pathlib as pt\n",
    "\n",
    "Source_folder = pt.Path(r'T:\\current\\Projects\\Deere\\CPSI\\2021\\Digital Acre\\Furrow_Vision')\n",
    "Source_Label = Source_folder / r'Data_11012022.xlsx'\n",
    "ImageSource = pt.Path(r'T:\\current\\Projects\\Deere\\CPSI\\2021\\Digital Acre\\DigitalAcre_DataSet_11302021\\DigitalAcre_DataSet')\n",
    "\n",
    "Destination = pt.Path(r'T:\\current\\Projects\\Deere\\CPSI\\2021\\Digital Acre\\Furrow_Vision\\Residue\\Dataset')"
   ],
   "metadata": {
    "collapsed": false
   }
  },
  {
   "cell_type": "code",
   "execution_count": 36,
   "outputs": [
    {
     "data": {
      "text/plain": "WindowsPath('T:/current/Projects/Deere/CPSI/2021/Digital Acre/DigitalAcre_DataSet_11302021/DigitalAcre_DataSet')"
     },
     "execution_count": 36,
     "metadata": {},
     "output_type": "execute_result"
    }
   ],
   "source": [
    "ImageSource"
   ],
   "metadata": {
    "collapsed": false
   }
  },
  {
   "cell_type": "code",
   "execution_count": 25,
   "outputs": [],
   "source": [
    "import pandas as pd\n",
    "Furrow_source = pd.read_excel(Source_Label)"
   ],
   "metadata": {
    "collapsed": false
   }
  },
  {
   "cell_type": "code",
   "execution_count": 26,
   "outputs": [
    {
     "data": {
      "text/plain": "   Unnamed: 0                                               user    id  \\\n0           0  task_chandan-2021_08_28_20_44_36-cvat for imag...  1057   \n1           1  task_chandan-2021_08_28_20_44_36-cvat for imag...   770   \n2           2  task_chandan-2021_08_28_20_44_36-cvat for imag...   918   \n3           3  task_chandan-2021_08_28_20_44_36-cvat for imag...  1326   \n4           4  task_chandan-2021_08_28_20_44_36-cvat for imag...   493   \n\n                                                name  width  height  \\\n0  Images_Bulk_Labeling/SET3/image_sensorid_3_fra...   1086    1448   \n1  Images_Bulk_Labeling/SET3/image_sensorid_2_fra...   1086    1448   \n2  Images_Bulk_Labeling/SET3/image_sensorid_3_fra...   1086    1448   \n3  Images_Bulk_Labeling/SET3/image_sensorid_3_fra...   1086    1448   \n4  Images_Bulk_Labeling/SET3/image_sensorid_2_fra...   1086    1448   \n\n                                              shapes  \\\n0  [{'type': 'box', 'label': 'Trench', 'occluded'...   \n1  [{'type': 'box', 'label': 'Seed', 'occluded': ...   \n2  [{'type': 'box', 'label': 'Seed', 'occluded': ...   \n3  [{'type': 'box', 'label': 'Trench', 'occluded'...   \n4  [{'type': 'box', 'label': 'Seed', 'occluded': ...   \n\n                                       Trench_points Residue in trench  \\\n0  310.21,170.04;574.93,170.04;574.93,1448.00;310...              True   \n1  340.48,159.95;605.20,159.95;605.20,1448.00;340...              True   \n2  340.48,159.95;605.20,159.95;605.20,1448.00;340...              True   \n3  310.21,170.04;574.93,170.04;574.93,1448.00;310...           unknown   \n4  346.53,120.73;559.95,120.73;559.95,1430.36;346...              True   \n\n  Is trench collapsed  ... Seed tip (Pitch)  Seed germ (Roll) Seed tip  \\\n0                True  ...              NaN               NaN      NaN   \n1               false  ...          unknown           unknown       45   \n2                True  ...          unknown           unknown  unknown   \n3             unknown  ...              NaN               NaN      NaN   \n4                True  ...          unknown           unknown  unknown   \n\n  Seed Type Trainable                                      Seed_points_2  \\\n0       NaN       NaN                                                NaN   \n1      corn      True  459.45,1075.73;509.14,1075.73;509.14,1123.96;4...   \n2      corn      True                                                NaN   \n3       NaN       NaN                                                NaN   \n4      corn      True  459.17,1019.68;493.03,1019.68;493.03,1055.50;4...   \n\n  Seed_points_3 Seed_points_4 TrenchDepthReference_points Trench_points_0  \n0           NaN           NaN                         NaN             NaN  \n1           NaN           NaN                         NaN             NaN  \n2           NaN           NaN                         NaN             NaN  \n3           NaN           NaN                         NaN             NaN  \n4           NaN           NaN                         NaN             NaN  \n\n[5 rows x 26 columns]",
      "text/html": "<div>\n<style scoped>\n    .dataframe tbody tr th:only-of-type {\n        vertical-align: middle;\n    }\n\n    .dataframe tbody tr th {\n        vertical-align: top;\n    }\n\n    .dataframe thead th {\n        text-align: right;\n    }\n</style>\n<table border=\"1\" class=\"dataframe\">\n  <thead>\n    <tr style=\"text-align: right;\">\n      <th></th>\n      <th>Unnamed: 0</th>\n      <th>user</th>\n      <th>id</th>\n      <th>name</th>\n      <th>width</th>\n      <th>height</th>\n      <th>shapes</th>\n      <th>Trench_points</th>\n      <th>Residue in trench</th>\n      <th>Is trench collapsed</th>\n      <th>...</th>\n      <th>Seed tip (Pitch)</th>\n      <th>Seed germ (Roll)</th>\n      <th>Seed tip</th>\n      <th>Seed Type</th>\n      <th>Trainable</th>\n      <th>Seed_points_2</th>\n      <th>Seed_points_3</th>\n      <th>Seed_points_4</th>\n      <th>TrenchDepthReference_points</th>\n      <th>Trench_points_0</th>\n    </tr>\n  </thead>\n  <tbody>\n    <tr>\n      <th>0</th>\n      <td>0</td>\n      <td>task_chandan-2021_08_28_20_44_36-cvat for imag...</td>\n      <td>1057</td>\n      <td>Images_Bulk_Labeling/SET3/image_sensorid_3_fra...</td>\n      <td>1086</td>\n      <td>1448</td>\n      <td>[{'type': 'box', 'label': 'Trench', 'occluded'...</td>\n      <td>310.21,170.04;574.93,170.04;574.93,1448.00;310...</td>\n      <td>True</td>\n      <td>True</td>\n      <td>...</td>\n      <td>NaN</td>\n      <td>NaN</td>\n      <td>NaN</td>\n      <td>NaN</td>\n      <td>NaN</td>\n      <td>NaN</td>\n      <td>NaN</td>\n      <td>NaN</td>\n      <td>NaN</td>\n      <td>NaN</td>\n    </tr>\n    <tr>\n      <th>1</th>\n      <td>1</td>\n      <td>task_chandan-2021_08_28_20_44_36-cvat for imag...</td>\n      <td>770</td>\n      <td>Images_Bulk_Labeling/SET3/image_sensorid_2_fra...</td>\n      <td>1086</td>\n      <td>1448</td>\n      <td>[{'type': 'box', 'label': 'Seed', 'occluded': ...</td>\n      <td>340.48,159.95;605.20,159.95;605.20,1448.00;340...</td>\n      <td>True</td>\n      <td>false</td>\n      <td>...</td>\n      <td>unknown</td>\n      <td>unknown</td>\n      <td>45</td>\n      <td>corn</td>\n      <td>True</td>\n      <td>459.45,1075.73;509.14,1075.73;509.14,1123.96;4...</td>\n      <td>NaN</td>\n      <td>NaN</td>\n      <td>NaN</td>\n      <td>NaN</td>\n    </tr>\n    <tr>\n      <th>2</th>\n      <td>2</td>\n      <td>task_chandan-2021_08_28_20_44_36-cvat for imag...</td>\n      <td>918</td>\n      <td>Images_Bulk_Labeling/SET3/image_sensorid_3_fra...</td>\n      <td>1086</td>\n      <td>1448</td>\n      <td>[{'type': 'box', 'label': 'Seed', 'occluded': ...</td>\n      <td>340.48,159.95;605.20,159.95;605.20,1448.00;340...</td>\n      <td>True</td>\n      <td>True</td>\n      <td>...</td>\n      <td>unknown</td>\n      <td>unknown</td>\n      <td>unknown</td>\n      <td>corn</td>\n      <td>True</td>\n      <td>NaN</td>\n      <td>NaN</td>\n      <td>NaN</td>\n      <td>NaN</td>\n      <td>NaN</td>\n    </tr>\n    <tr>\n      <th>3</th>\n      <td>3</td>\n      <td>task_chandan-2021_08_28_20_44_36-cvat for imag...</td>\n      <td>1326</td>\n      <td>Images_Bulk_Labeling/SET3/image_sensorid_3_fra...</td>\n      <td>1086</td>\n      <td>1448</td>\n      <td>[{'type': 'box', 'label': 'Trench', 'occluded'...</td>\n      <td>310.21,170.04;574.93,170.04;574.93,1448.00;310...</td>\n      <td>unknown</td>\n      <td>unknown</td>\n      <td>...</td>\n      <td>NaN</td>\n      <td>NaN</td>\n      <td>NaN</td>\n      <td>NaN</td>\n      <td>NaN</td>\n      <td>NaN</td>\n      <td>NaN</td>\n      <td>NaN</td>\n      <td>NaN</td>\n      <td>NaN</td>\n    </tr>\n    <tr>\n      <th>4</th>\n      <td>4</td>\n      <td>task_chandan-2021_08_28_20_44_36-cvat for imag...</td>\n      <td>493</td>\n      <td>Images_Bulk_Labeling/SET3/image_sensorid_2_fra...</td>\n      <td>1086</td>\n      <td>1448</td>\n      <td>[{'type': 'box', 'label': 'Seed', 'occluded': ...</td>\n      <td>346.53,120.73;559.95,120.73;559.95,1430.36;346...</td>\n      <td>True</td>\n      <td>True</td>\n      <td>...</td>\n      <td>unknown</td>\n      <td>unknown</td>\n      <td>unknown</td>\n      <td>corn</td>\n      <td>True</td>\n      <td>459.17,1019.68;493.03,1019.68;493.03,1055.50;4...</td>\n      <td>NaN</td>\n      <td>NaN</td>\n      <td>NaN</td>\n      <td>NaN</td>\n    </tr>\n  </tbody>\n</table>\n<p>5 rows × 26 columns</p>\n</div>"
     },
     "execution_count": 26,
     "metadata": {},
     "output_type": "execute_result"
    }
   ],
   "source": [
    "Furrow_source.head()"
   ],
   "metadata": {
    "collapsed": false
   }
  },
  {
   "cell_type": "code",
   "execution_count": 29,
   "outputs": [
    {
     "data": {
      "text/plain": "11797"
     },
     "execution_count": 29,
     "metadata": {},
     "output_type": "execute_result"
    }
   ],
   "source": [
    "cleanedData = Furrow_source[Furrow_source[\"Image not usable\"]== False]\n",
    "len(cleanedData)"
   ],
   "metadata": {
    "collapsed": false
   }
  },
  {
   "cell_type": "code",
   "execution_count": 46,
   "outputs": [],
   "source": [
    "Residue_list = list(set(cleanedData['Residue']))\n",
    "for folder in Residue_list:\n",
    "    (Destination / folder ).mkdir(parents=True, exist_ok=True)\n"
   ],
   "metadata": {
    "collapsed": false
   }
  },
  {
   "cell_type": "code",
   "execution_count": 48,
   "outputs": [
    {
     "name": "stderr",
     "output_type": "stream",
     "text": [
      " 70%|███████   | 8288/11797 [21:14<08:59,  6.50it/s]  \n"
     ]
    },
    {
     "ename": "FileNotFoundError",
     "evalue": "[Errno 2] No such file or directory: 'T:\\\\current\\\\Projects\\\\Deere\\\\CPSI\\\\2021\\\\Digital Acre\\\\DigitalAcre_DataSet_11302021\\\\DigitalAcre_DataSet\\\\task_miniset_chandan-2021_12_01_02_59_30-cvat for images 1.1\\\\images\\\\Images_Bulk_labelling_mini\\\\MiniSET4\\\\image_sensorid_4_frame_248394_ts_1620155195.7670_GPS_42.0435684939_-93.7053231075.png'",
     "output_type": "error",
     "traceback": [
      "\u001B[1;31m---------------------------------------------------------------------------\u001B[0m",
      "\u001B[1;31mFileNotFoundError\u001B[0m                         Traceback (most recent call last)",
      "Cell \u001B[1;32mIn [48], line 7\u001B[0m\n\u001B[0;32m      5\u001B[0m \u001B[38;5;66;03m# print(image_source)\u001B[39;00m\n\u001B[0;32m      6\u001B[0m destination \u001B[38;5;241m=\u001B[39m Destination \u001B[38;5;241m/\u001B[39m cleanedData[\u001B[38;5;124m'\u001B[39m\u001B[38;5;124mResidue\u001B[39m\u001B[38;5;124m'\u001B[39m]\u001B[38;5;241m.\u001B[39miloc[i] \u001B[38;5;241m/\u001B[39m image_source\u001B[38;5;241m.\u001B[39mname\n\u001B[1;32m----> 7\u001B[0m \u001B[43mshutil\u001B[49m\u001B[38;5;241;43m.\u001B[39;49m\u001B[43mcopy\u001B[49m\u001B[43m(\u001B[49m\u001B[43mimage_source\u001B[49m\u001B[43m,\u001B[49m\u001B[43mdestination\u001B[49m\u001B[43m)\u001B[49m\n\u001B[0;32m      8\u001B[0m \u001B[38;5;66;03m# break\u001B[39;00m\n",
      "File \u001B[1;32mC:\\ProgramData\\Anaconda3\\envs\\Notebook\\lib\\shutil.py:417\u001B[0m, in \u001B[0;36mcopy\u001B[1;34m(src, dst, follow_symlinks)\u001B[0m\n\u001B[0;32m    415\u001B[0m \u001B[38;5;28;01mif\u001B[39;00m os\u001B[38;5;241m.\u001B[39mpath\u001B[38;5;241m.\u001B[39misdir(dst):\n\u001B[0;32m    416\u001B[0m     dst \u001B[38;5;241m=\u001B[39m os\u001B[38;5;241m.\u001B[39mpath\u001B[38;5;241m.\u001B[39mjoin(dst, os\u001B[38;5;241m.\u001B[39mpath\u001B[38;5;241m.\u001B[39mbasename(src))\n\u001B[1;32m--> 417\u001B[0m \u001B[43mcopyfile\u001B[49m\u001B[43m(\u001B[49m\u001B[43msrc\u001B[49m\u001B[43m,\u001B[49m\u001B[43m \u001B[49m\u001B[43mdst\u001B[49m\u001B[43m,\u001B[49m\u001B[43m \u001B[49m\u001B[43mfollow_symlinks\u001B[49m\u001B[38;5;241;43m=\u001B[39;49m\u001B[43mfollow_symlinks\u001B[49m\u001B[43m)\u001B[49m\n\u001B[0;32m    418\u001B[0m copymode(src, dst, follow_symlinks\u001B[38;5;241m=\u001B[39mfollow_symlinks)\n\u001B[0;32m    419\u001B[0m \u001B[38;5;28;01mreturn\u001B[39;00m dst\n",
      "File \u001B[1;32mC:\\ProgramData\\Anaconda3\\envs\\Notebook\\lib\\shutil.py:254\u001B[0m, in \u001B[0;36mcopyfile\u001B[1;34m(src, dst, follow_symlinks)\u001B[0m\n\u001B[0;32m    252\u001B[0m     os\u001B[38;5;241m.\u001B[39msymlink(os\u001B[38;5;241m.\u001B[39mreadlink(src), dst)\n\u001B[0;32m    253\u001B[0m \u001B[38;5;28;01melse\u001B[39;00m:\n\u001B[1;32m--> 254\u001B[0m     \u001B[38;5;28;01mwith\u001B[39;00m \u001B[38;5;28;43mopen\u001B[39;49m\u001B[43m(\u001B[49m\u001B[43msrc\u001B[49m\u001B[43m,\u001B[49m\u001B[43m \u001B[49m\u001B[38;5;124;43m'\u001B[39;49m\u001B[38;5;124;43mrb\u001B[39;49m\u001B[38;5;124;43m'\u001B[39;49m\u001B[43m)\u001B[49m \u001B[38;5;28;01mas\u001B[39;00m fsrc:\n\u001B[0;32m    255\u001B[0m         \u001B[38;5;28;01mtry\u001B[39;00m:\n\u001B[0;32m    256\u001B[0m             \u001B[38;5;28;01mwith\u001B[39;00m \u001B[38;5;28mopen\u001B[39m(dst, \u001B[38;5;124m'\u001B[39m\u001B[38;5;124mwb\u001B[39m\u001B[38;5;124m'\u001B[39m) \u001B[38;5;28;01mas\u001B[39;00m fdst:\n\u001B[0;32m    257\u001B[0m                 \u001B[38;5;66;03m# macOS\u001B[39;00m\n",
      "\u001B[1;31mFileNotFoundError\u001B[0m: [Errno 2] No such file or directory: 'T:\\\\current\\\\Projects\\\\Deere\\\\CPSI\\\\2021\\\\Digital Acre\\\\DigitalAcre_DataSet_11302021\\\\DigitalAcre_DataSet\\\\task_miniset_chandan-2021_12_01_02_59_30-cvat for images 1.1\\\\images\\\\Images_Bulk_labelling_mini\\\\MiniSET4\\\\image_sensorid_4_frame_248394_ts_1620155195.7670_GPS_42.0435684939_-93.7053231075.png'"
     ]
    }
   ],
   "source": [
    "from tqdm import trange\n",
    "import shutil\n",
    "for i in trange(len(cleanedData)):\n",
    "    image_source = ImageSource / cleanedData['user'].iloc[i] / 'images' / cleanedData['name'].iloc[i]\n",
    "    # print(image_source)\n",
    "    destination = Destination / cleanedData['Residue'].iloc[i] / image_source.name\n",
    "    shutil.copy(image_source,destination)\n",
    "    # break"
   ],
   "metadata": {
    "collapsed": false
   }
  }
 ],
 "metadata": {
  "kernelspec": {
   "display_name": "Python 3",
   "language": "python",
   "name": "python3"
  },
  "language_info": {
   "codemirror_mode": {
    "name": "ipython",
    "version": 2
   },
   "file_extension": ".py",
   "mimetype": "text/x-python",
   "name": "python",
   "nbconvert_exporter": "python",
   "pygments_lexer": "ipython2",
   "version": "2.7.6"
  }
 },
 "nbformat": 4,
 "nbformat_minor": 0
}
